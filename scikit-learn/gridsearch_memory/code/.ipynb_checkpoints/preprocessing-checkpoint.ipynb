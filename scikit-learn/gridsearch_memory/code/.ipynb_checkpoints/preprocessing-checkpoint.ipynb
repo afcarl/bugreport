{
 "metadata": {
  "name": "",
  "signature": "sha256:07ae61bdba4c436f24ae041babccfad27bf9cd3bd8ef714c003bce42533567c7"
 },
 "nbformat": 3,
 "nbformat_minor": 0,
 "worksheets": [
  {
   "cells": [
    {
     "cell_type": "code",
     "collapsed": false,
     "input": [
      "%load_ext watermark\n",
      "%watermark -a 'Sebastian Raschka' -v"
     ],
     "language": "python",
     "metadata": {},
     "outputs": [
      {
       "output_type": "stream",
       "stream": "stdout",
       "text": [
        "Sebastian Raschka \n",
        "\n",
        "CPython 3.4.2\n",
        "IPython 2.3.1\n"
       ]
      }
     ],
     "prompt_number": 1
    },
    {
     "cell_type": "heading",
     "level": 3,
     "metadata": {},
     "source": [
      "Sections"
     ]
    },
    {
     "cell_type": "markdown",
     "metadata": {},
     "source": [
      "- [Generate Training and Test Datasets](#Generate-Training-and-Test-Datasets)\n",
      "- [Text Preprocessing](#Text-Preprocessing)\n",
      "    - [Feature Extraction - Cross Validation Error](#Transform-texts-into-bag-of-words-models---Trying-different-tokenizers)\n",
      "    - [Looking at vocabulary sizes](#Looking-at-vocabulary-sizes)\n",
      "- [Model Selection](#Model-Selection)\n",
      "    - [Feature Extraction - Cross Validation Error](#Feature-Extraction---Cross-Validation-Error)\n",
      "    - [ROC Curve](#ROC-Curve)\n",
      "- [Submission 1](#Submission-1)\n",
      "- [Hyperparameter Tuning](#Hyperparameter-Tuning)\n",
      "    - [Effect of the number of estimators](#Effect-of-the-number-of-estimators)\n",
      "    - [GridSearch](#GridSearch)"
     ]
    },
    {
     "cell_type": "markdown",
     "metadata": {},
     "source": [
      "<br>\n",
      "<br>"
     ]
    },
    {
     "cell_type": "heading",
     "level": 1,
     "metadata": {},
     "source": [
      "Reading the Training Dataset"
     ]
    },
    {
     "cell_type": "markdown",
     "metadata": {},
     "source": [
      "- [[back to top](#Sections)]"
     ]
    },
    {
     "cell_type": "code",
     "collapsed": false,
     "input": [
      "import pandas as pd\n",
      "\n",
      "df_train = pd.read_csv('../data/labeledTrainData.tsv', sep='\\t', quoting=3)\n",
      "df_test = pd.read_csv('../data/testData.tsv', sep='\\t', quoting=3)\n",
      "\n",
      "df_train.tail()"
     ],
     "language": "python",
     "metadata": {},
     "outputs": [
      {
       "html": [
        "<div style=\"max-height:1000px;max-width:1500px;overflow:auto;\">\n",
        "<table border=\"1\" class=\"dataframe\">\n",
        "  <thead>\n",
        "    <tr style=\"text-align: right;\">\n",
        "      <th></th>\n",
        "      <th>id</th>\n",
        "      <th>sentiment</th>\n",
        "      <th>review</th>\n",
        "    </tr>\n",
        "  </thead>\n",
        "  <tbody>\n",
        "    <tr>\n",
        "      <th>24995</th>\n",
        "      <td>  3453_3</td>\n",
        "      <td> 0</td>\n",
        "      <td> It seems like more consideration has gone into...</td>\n",
        "    </tr>\n",
        "    <tr>\n",
        "      <th>24996</th>\n",
        "      <td>  5064_1</td>\n",
        "      <td> 0</td>\n",
        "      <td> I don't believe they made this film. Completel...</td>\n",
        "    </tr>\n",
        "    <tr>\n",
        "      <th>24997</th>\n",
        "      <td> 10905_3</td>\n",
        "      <td> 0</td>\n",
        "      <td> Guy is a loser. Can't get girls, needs to buil...</td>\n",
        "    </tr>\n",
        "    <tr>\n",
        "      <th>24998</th>\n",
        "      <td> 10194_3</td>\n",
        "      <td> 0</td>\n",
        "      <td> This 30 minute documentary Bu\u00f1uel made in the ...</td>\n",
        "    </tr>\n",
        "    <tr>\n",
        "      <th>24999</th>\n",
        "      <td>  8478_8</td>\n",
        "      <td> 1</td>\n",
        "      <td> I saw this movie as a child and it broke my he...</td>\n",
        "    </tr>\n",
        "  </tbody>\n",
        "</table>\n",
        "</div>"
       ],
       "metadata": {},
       "output_type": "pyout",
       "prompt_number": 2,
       "text": [
        "            id  sentiment                                             review\n",
        "24995   3453_3          0  It seems like more consideration has gone into...\n",
        "24996   5064_1          0  I don't believe they made this film. Completel...\n",
        "24997  10905_3          0  Guy is a loser. Can't get girls, needs to buil...\n",
        "24998  10194_3          0  This 30 minute documentary Bu\u00f1uel made in the ...\n",
        "24999   8478_8          1  I saw this movie as a child and it broke my he..."
       ]
      }
     ],
     "prompt_number": 2
    },
    {
     "cell_type": "code",
     "collapsed": false,
     "input": [
      "X_train = df_train['review']\n",
      "y_train = df_train['sentiment']"
     ],
     "language": "python",
     "metadata": {},
     "outputs": [],
     "prompt_number": 3
    },
    {
     "cell_type": "markdown",
     "metadata": {},
     "source": [
      "<br>\n",
      "<br>"
     ]
    },
    {
     "cell_type": "markdown",
     "metadata": {},
     "source": [
      "<br>\n",
      "<br>"
     ]
    },
    {
     "cell_type": "heading",
     "level": 1,
     "metadata": {},
     "source": [
      "Text Preprocessing"
     ]
    },
    {
     "cell_type": "markdown",
     "metadata": {},
     "source": [
      "- [[back to top](#Sections)]"
     ]
    },
    {
     "cell_type": "code",
     "collapsed": false,
     "input": [
      "import pickle\n",
      "stop_words = pickle.load(open('./stopwords.p', 'rb'))\n",
      "semantic_words = pickle.load(open('./whitelist/semantic_words.p', 'rb'))"
     ],
     "language": "python",
     "metadata": {},
     "outputs": [],
     "prompt_number": 4
    },
    {
     "cell_type": "markdown",
     "metadata": {},
     "source": [
      "<br>\n",
      "<br>"
     ]
    },
    {
     "cell_type": "heading",
     "level": 3,
     "metadata": {},
     "source": [
      "Transform texts into bag of words models - Trying different tokenizers"
     ]
    },
    {
     "cell_type": "markdown",
     "metadata": {},
     "source": [
      "- [[back to top](#Sections)]"
     ]
    },
    {
     "cell_type": "code",
     "collapsed": false,
     "input": [
      "from nltk.stem.porter import PorterStemmer\n",
      "from nltk.stem.snowball import EnglishStemmer\n",
      "\n",
      "porter = PorterStemmer()\n",
      "snowball = EnglishStemmer()\n",
      "\n",
      "# raw words\n",
      "tokenizer = lambda text: text.split()\n",
      "\n",
      "# words after Porter stemming \n",
      "tokenizer_porter = lambda text: [porter.stem(word) for word in text.split()]\n",
      "\n",
      "# Words after Snowball stemming\n",
      "tokenizer_snowball = lambda text: [snowball.stem(word) for word in text.split()]\n",
      "\n",
      "# Only words that are in a list of 'positive' or 'negative' words ('whitelist')\n",
      "# http://www.cs.uic.edu/~liub/FBS/sentiment-analysis.html#lexicon\n",
      "tokenizer_whitelist = lambda text: [word for word in text.split() if word in semantic_words]\n",
      "\n",
      "# Porter-stemmed words in whitelist\n",
      "tokenizer_porter_wl = lambda text: [porter.stem(word) for word in text.split() if word in semantic_words]\n",
      "\n",
      "# Snowball-stemmed words in whitelist\n",
      "tokenizer_snowball_wl = lambda text: [snowball.stem(word) for word in text.split() if word in semantic_words]"
     ],
     "language": "python",
     "metadata": {},
     "outputs": [],
     "prompt_number": 5
    },
    {
     "cell_type": "markdown",
     "metadata": {},
     "source": [
      "<br>\n",
      "<br>"
     ]
    },
    {
     "cell_type": "heading",
     "level": 3,
     "metadata": {},
     "source": [
      "Looking at vocabulary sizes"
     ]
    },
    {
     "cell_type": "markdown",
     "metadata": {},
     "source": [
      "- [[back to top](#Sections)]"
     ]
    },
    {
     "cell_type": "code",
     "collapsed": false,
     "input": [
      "import re\n",
      "from sklearn.feature_extraction.text import CountVectorizer\n",
      "from sklearn.feature_extraction.text import TfidfVectorizer\n",
      "from sklearn.pipeline import Pipeline\n",
      "from sklearn.ensemble import RandomForestClassifier\n",
      "from mlxtend.sklearn import DenseTransformer\n",
      "\n",
      "vect_1 = CountVectorizer(binary=False,\n",
      "                         stop_words=stop_words,\n",
      "                         ngram_range=(1,1),\n",
      "                         preprocessor=lambda text: re.sub('[^a-zA-Z]', ' ', text.lower()),\n",
      "                         max_features=5000,\n",
      "                         tokenizer=tokenizer)\n",
      "\n",
      "vect_2 = CountVectorizer(binary=False,\n",
      "                         stop_words=stop_words,\n",
      "                         ngram_range=(1,1),\n",
      "                         preprocessor=lambda text: re.sub('[^a-zA-Z]', ' ', text.lower()),\n",
      "                         max_features=5000,\n",
      "                         tokenizer=tokenizer_porter)\n",
      "    \n",
      "vect_3 = CountVectorizer(binary=False,\n",
      "                         stop_words=stop_words,\n",
      "                         ngram_range=(1,1),\n",
      "                         preprocessor=lambda text: re.sub('[^a-zA-Z]', ' ', text.lower()),\n",
      "                         max_features=5000,\n",
      "                         tokenizer=tokenizer_snowball)  \n",
      "\n",
      "vect_4 = CountVectorizer(binary=False,\n",
      "                         stop_words=stop_words,\n",
      "                         ngram_range=(1,1),\n",
      "                         preprocessor=lambda text: re.sub('[^a-zA-Z]', ' ', text.lower()),\n",
      "                         max_features=5000,\n",
      "                         tokenizer=tokenizer_whitelist)  \n",
      "\n",
      "vect_5 = CountVectorizer(binary=False,\n",
      "                         stop_words=stop_words,\n",
      "                         ngram_range=(1,1),\n",
      "                         preprocessor=lambda text: re.sub('[^a-zA-Z]', ' ', text.lower()),\n",
      "                         max_features=5000,\n",
      "                         tokenizer=tokenizer_porter_wl)\n",
      "\n",
      "vect_6 = CountVectorizer(binary=False,\n",
      "                         stop_words=stop_words,\n",
      "                         ngram_range=(1,1),\n",
      "                         preprocessor=lambda text: re.sub('[^a-zA-Z]', ' ', text.lower()),\n",
      "                         max_features=5000,\n",
      "                         tokenizer=tokenizer_snowball_wl)\n",
      "\n",
      "vect_7 = TfidfVectorizer(binary=False,\n",
      "                         stop_words=stop_words,\n",
      "                         ngram_range=(1,1),\n",
      "                         preprocessor=lambda text: re.sub('[^a-zA-Z]', ' ', text.lower()),\n",
      "                         max_features=5000,\n",
      "                         tokenizer=tokenizer)\n",
      "\n",
      "vect_8 = TfidfVectorizer(binary=False,\n",
      "                         stop_words=stop_words,\n",
      "                         ngram_range=(1,1),\n",
      "                         preprocessor=lambda text: re.sub('[^a-zA-Z]', ' ', text.lower()),\n",
      "                         max_features=5000,\n",
      "                         tokenizer=tokenizer_porter)\n",
      "    \n",
      "vect_9 = TfidfVectorizer(binary=False,\n",
      "                         stop_words=stop_words,\n",
      "                         ngram_range=(1,1),\n",
      "                         preprocessor=lambda text: re.sub('[^a-zA-Z]', ' ', text.lower()),\n",
      "                         max_features=5000,\n",
      "                         tokenizer=tokenizer_snowball)\n",
      "\n",
      "vect_10 = TfidfVectorizer(binary=False,\n",
      "                         stop_words=stop_words,\n",
      "                         ngram_range=(1,1),\n",
      "                         preprocessor=lambda text: re.sub('[^a-zA-Z]', ' ', text.lower()),\n",
      "                         max_features=5000,\n",
      "                         tokenizer=tokenizer_whitelist)    \n",
      "\n",
      "vect_11 = TfidfVectorizer(binary=False,\n",
      "                         stop_words=stop_words,\n",
      "                         ngram_range=(1,1),\n",
      "                         preprocessor=lambda text: re.sub('[^a-zA-Z]', ' ', text.lower()),\n",
      "                         max_features=5000,\n",
      "                         tokenizer=tokenizer_porter_wl)\n",
      "\n",
      "vect_12 = TfidfVectorizer(binary=False,\n",
      "                         stop_words=stop_words,\n",
      "                         ngram_range=(1,1),\n",
      "                         preprocessor=lambda text: re.sub('[^a-zA-Z]', ' ', text.lower()),\n",
      "                         max_features=5000,\n",
      "                         tokenizer=tokenizer_snowball_wl)\n",
      "\n",
      "\n",
      "pipelines = []\n",
      "vectorizers = [vect_1, vect_2, vect_3, vect_4, vect_5, vect_6, vect_7, vect_8, vect_9, vect_10, vect_11, vect_12]\n",
      "for v in vectorizers:\n",
      "    pipelines.append(Pipeline([('vect', v),\n",
      "                               ('dense', DenseTransformer()),\n",
      "                               ('clf', RandomForestClassifier(n_estimators=100))]))"
     ],
     "language": "python",
     "metadata": {},
     "outputs": [],
     "prompt_number": 6
    },
    {
     "cell_type": "code",
     "collapsed": false,
     "input": [
      "# done before max_features was set\n",
      "\n",
      "print('Vocabulary sizes\\n')\n",
      "labels = ['CountVec', 'CountVec porter', 'CountVec snowball', 'CountVec wl', 'CountVec porter+wl','CountVec snowball+wl',\n",
      "          'TfidfVec', 'TfidfVec porter', 'TfidfVec snowball', 'TfidfVec wl', 'TfidfVec porter+wl','TfidfVec snowball+wl',]\n",
      "\n",
      "for label, v in zip(labels, vectorizers):\n",
      "    v.fit(X_train)\n",
      "    print('%s: %s' % (label, len(v.vocabulary_)))"
     ],
     "language": "python",
     "metadata": {},
     "outputs": [
      {
       "output_type": "stream",
       "stream": "stdout",
       "text": [
        "Vocabulary sizes\n",
        "\n",
        "CountVec: 73145"
       ]
      },
      {
       "output_type": "stream",
       "stream": "stdout",
       "text": [
        "\n",
        "CountVec porter: 49632"
       ]
      },
      {
       "output_type": "stream",
       "stream": "stdout",
       "text": [
        "\n",
        "CountVec snowball: 48958"
       ]
      },
      {
       "output_type": "stream",
       "stream": "stdout",
       "text": [
        "\n",
        "CountVec wl: 5511"
       ]
      },
      {
       "output_type": "stream",
       "stream": "stdout",
       "text": [
        "\n",
        "CountVec porter+wl: 3750"
       ]
      },
      {
       "output_type": "stream",
       "stream": "stdout",
       "text": [
        "\n",
        "CountVec snowball+wl: 3531"
       ]
      },
      {
       "output_type": "stream",
       "stream": "stdout",
       "text": [
        "\n",
        "TfidfVec: 73145"
       ]
      },
      {
       "output_type": "stream",
       "stream": "stdout",
       "text": [
        "\n",
        "TfidfVec porter: 49632"
       ]
      },
      {
       "output_type": "stream",
       "stream": "stdout",
       "text": [
        "\n",
        "TfidfVec snowball: 48958"
       ]
      },
      {
       "output_type": "stream",
       "stream": "stdout",
       "text": [
        "\n",
        "TfidfVec wl: 5511"
       ]
      },
      {
       "output_type": "stream",
       "stream": "stdout",
       "text": [
        "\n",
        "TfidfVec porter+wl: 3750"
       ]
      },
      {
       "output_type": "stream",
       "stream": "stdout",
       "text": [
        "\n",
        "TfidfVec snowball+wl: 3531"
       ]
      },
      {
       "output_type": "stream",
       "stream": "stdout",
       "text": [
        "\n"
       ]
      }
     ],
     "prompt_number": 51
    },
    {
     "cell_type": "markdown",
     "metadata": {},
     "source": [
      "<br>\n",
      "<br>"
     ]
    },
    {
     "cell_type": "heading",
     "level": 1,
     "metadata": {},
     "source": [
      "Model Selection"
     ]
    },
    {
     "cell_type": "markdown",
     "metadata": {},
     "source": [
      "- [[back to top](#Sections)]"
     ]
    },
    {
     "cell_type": "heading",
     "level": 3,
     "metadata": {},
     "source": [
      "Feature Extraction - Cross Validation Error"
     ]
    },
    {
     "cell_type": "markdown",
     "metadata": {},
     "source": [
      "- [[back to top](#Sections)]"
     ]
    },
    {
     "cell_type": "code",
     "collapsed": false,
     "input": [
      "from sklearn import metrics\n",
      "from sklearn import cross_validation\n",
      "\n",
      "labels = ['CountVec', 'CountVec porter', 'CountVec snowball', 'CountVec wl', 'CountVec porter+wl','CountVec snowball+wl',\n",
      "          'TfidfVec', 'TfidfVec porter', 'TfidfVec snowball', 'TfidfVec wl', 'TfidfVec porter+wl','TfidfVec snowball+wl',]\n",
      "\n",
      "\n",
      "\n",
      "d = {'Data':labels,\n",
      "     'ROC AUC (%)':[],}\n",
      "\n",
      "for i,clf in enumerate(pipelines):\n",
      "    scores = cross_validation.cross_val_score(estimator=clf, X=X_train, y=y_train, scoring='roc_auc', cv=5)\n",
      "    print('clf %s, %s: %s' % (i+1, labels[i], scores.mean()*100))\n",
      "    d['ROC AUC (%)'].append('%0.2f (+/- %0.2f)' % (scores.mean()*100, scores.std()*100))"
     ],
     "language": "python",
     "metadata": {},
     "outputs": [
      {
       "output_type": "stream",
       "stream": "stdout",
       "text": [
        "clf 1, CountVec: 91.7881344\n",
        "clf 2, CountVec porter: 91.9449152"
       ]
      },
      {
       "output_type": "stream",
       "stream": "stdout",
       "text": [
        "\n",
        "clf 3, CountVec snowball: 91.9391536"
       ]
      },
      {
       "output_type": "stream",
       "stream": "stdout",
       "text": [
        "\n",
        "clf 4, CountVec wl: 90.3942896"
       ]
      },
      {
       "output_type": "stream",
       "stream": "stdout",
       "text": [
        "\n",
        "clf 5, CountVec porter+wl: 90.3207072"
       ]
      },
      {
       "output_type": "stream",
       "stream": "stdout",
       "text": [
        "\n",
        "clf 6, CountVec snowball+wl: 90.2649024"
       ]
      },
      {
       "output_type": "stream",
       "stream": "stdout",
       "text": [
        "\n",
        "clf 7, TfidfVec: 92.1736432"
       ]
      },
      {
       "output_type": "stream",
       "stream": "stdout",
       "text": [
        "\n",
        "clf 8, TfidfVec porter: 92.157568"
       ]
      },
      {
       "output_type": "stream",
       "stream": "stdout",
       "text": [
        "\n",
        "clf 9, TfidfVec snowball: 92.2451872"
       ]
      },
      {
       "output_type": "stream",
       "stream": "stdout",
       "text": [
        "\n",
        "clf 10, TfidfVec wl: 90.7966944"
       ]
      },
      {
       "output_type": "stream",
       "stream": "stdout",
       "text": [
        "\n",
        "clf 11, TfidfVec porter+wl: 90.5723472"
       ]
      },
      {
       "output_type": "stream",
       "stream": "stdout",
       "text": [
        "\n",
        "clf 12, TfidfVec snowball+wl: 90.7430272"
       ]
      },
      {
       "output_type": "stream",
       "stream": "stdout",
       "text": [
        "\n"
       ]
      }
     ],
     "prompt_number": 8
    },
    {
     "cell_type": "code",
     "collapsed": false,
     "input": [
      "df_perform = pd.DataFrame(d)\n",
      "df_perform = df_perform['ROC AUC (%)']\n",
      "df_perform.index=(labels)\n",
      "df_perform"
     ],
     "language": "python",
     "metadata": {},
     "outputs": [
      {
       "metadata": {},
       "output_type": "pyout",
       "prompt_number": 12,
       "text": [
        "CountVec                91.79 (+/- 0.25)\n",
        "CountVec porter         91.94 (+/- 0.11)\n",
        "CountVec snowball       91.94 (+/- 0.11)\n",
        "CountVec wl             90.39 (+/- 0.28)\n",
        "CountVec porter+wl      90.32 (+/- 0.38)\n",
        "CountVec snowball+wl    90.26 (+/- 0.29)\n",
        "TfidfVec                92.17 (+/- 0.42)\n",
        "TfidfVec porter         92.16 (+/- 0.19)\n",
        "TfidfVec snowball       92.25 (+/- 0.32)\n",
        "TfidfVec wl             90.80 (+/- 0.39)\n",
        "TfidfVec porter+wl      90.57 (+/- 0.35)\n",
        "TfidfVec snowball+wl    90.74 (+/- 0.39)\n",
        "Name: ROC AUC (%), dtype: object"
       ]
      }
     ],
     "prompt_number": 12
    },
    {
     "cell_type": "code",
     "collapsed": false,
     "input": [
      "df_perform.to_csv('../results/rand_forest_featextr_1.csv')"
     ],
     "language": "python",
     "metadata": {},
     "outputs": [],
     "prompt_number": 13
    },
    {
     "cell_type": "markdown",
     "metadata": {},
     "source": [
      "<br>\n",
      "<br>"
     ]
    },
    {
     "cell_type": "heading",
     "level": 3,
     "metadata": {},
     "source": [
      "ROC Curve"
     ]
    },
    {
     "cell_type": "markdown",
     "metadata": {},
     "source": [
      "- [[back to top](#Sections)]"
     ]
    },
    {
     "cell_type": "code",
     "collapsed": false,
     "input": [
      "%matplotlib inline"
     ],
     "language": "python",
     "metadata": {},
     "outputs": [],
     "prompt_number": 14
    },
    {
     "cell_type": "code",
     "collapsed": false,
     "input": [
      "from sklearn.metrics import roc_curve, auc\n",
      "import seaborn as sns\n",
      "import numpy as np\n",
      "import matplotlib.pyplot as plt\n",
      "from sklearn.cross_validation import KFold\n",
      "from scipy import interp\n",
      "\n",
      "sns.set()\n",
      "sns.set_style(\"whitegrid\")\n",
      "\n",
      "classifier = Pipeline([('vect',   TfidfVectorizer(binary=False,\n",
      "                                             stop_words=stop_words,\n",
      "                                             ngram_range=(1,1),\n",
      "                                             preprocessor=lambda text: re.sub('[^a-zA-Z]', ' ', text.lower()),\n",
      "                                             max_features = 5000,\n",
      "                                             tokenizer=lambda text: [porter.stem(word) for word in text.split()]\n",
      "                )),\n",
      "                ('dense', DenseTransformer()),\n",
      "                ('clf', RandomForestClassifier(n_estimators=100))])\n",
      "\n",
      "\n",
      "cv = KFold(y_train.shape[0], n_folds=5, random_state=123)\n",
      "\n",
      "mean_tpr = 0.0\n",
      "mean_fpr = np.linspace(0, 1, 100)\n",
      "all_tpr = []\n",
      "\n",
      "for i, (train, test) in enumerate(cv):\n",
      "    probas_ = classifier.fit(X_train[train], y_train[train]).predict_proba(X_train[test])\n",
      "    # Compute ROC curve and area the curve\n",
      "    fpr, tpr, thresholds = roc_curve(y_train[test], probas_[:, 1])\n",
      "    mean_tpr += interp(mean_fpr, fpr, tpr)\n",
      "    mean_tpr[0] = 0.0\n",
      "    roc_auc = auc(fpr, tpr)\n",
      "    plt.plot(fpr, tpr, lw=1, label='ROC fold %d (area = %0.2f)' % (i+1, roc_auc))\n",
      "\n",
      "plt.plot([0, 1], [0, 1], '--', color=(0.6, 0.6, 0.6), label='Random Guessing')\n",
      "\n",
      "mean_tpr /= len(cv)\n",
      "mean_tpr[-1] = 1.0\n",
      "mean_auc = auc(mean_fpr, mean_tpr)\n",
      "plt.plot(mean_fpr, mean_tpr, 'k--',\n",
      "         label='Mean ROC (area = %0.2f)' % mean_auc, lw=2)\n",
      "\n",
      "plt.xlim([-0.05, 1.05])\n",
      "plt.ylim([-0.05, 1.05])\n",
      "plt.xlabel('False Positive Rate')\n",
      "plt.ylabel('True Positive Rate')\n",
      "plt.savefig('../images/rand_forest_roc_tfidf_porter_1.eps', dpi=300)\n",
      "plt.legend(loc=\"lower right\")\n",
      "\n",
      "plt.show()"
     ],
     "language": "python",
     "metadata": {},
     "outputs": [
      {
       "metadata": {},
       "output_type": "display_data",
       "png": "[encoded data removed]",
       "text": [
        "<matplotlib.figure.Figure at 0x11037d630>"
       ]
      }
     ],
     "prompt_number": 20
    },
    {
     "cell_type": "markdown",
     "metadata": {},
     "source": [
      "<br>\n",
      "<br>"
     ]
    },
    {
     "cell_type": "heading",
     "level": 1,
     "metadata": {},
     "source": [
      "Submission 1"
     ]
    },
    {
     "cell_type": "markdown",
     "metadata": {},
     "source": [
      "- [[back to top](#Sections)]"
     ]
    },
    {
     "cell_type": "code",
     "collapsed": false,
     "input": [
      "clf_1 = Pipeline([('vect',   TfidfVectorizer(binary=False,\n",
      "                                             stop_words=stop_words,\n",
      "                                             ngram_range=(1,1),\n",
      "                                             preprocessor=lambda text: re.sub('[^a-zA-Z]', ' ', text.lower()),\n",
      "                                             max_features=5000,\n",
      "                                             tokenizer=lambda text: [porter.stem(word) for word in text.split()]\n",
      "                )),\n",
      "                ('dense', DenseTransformer()),\n",
      "                ('clf', RandomForestClassifier(n_estimators=100))])"
     ],
     "language": "python",
     "metadata": {},
     "outputs": [],
     "prompt_number": 21
    },
    {
     "cell_type": "code",
     "collapsed": false,
     "input": [
      "X_test = df_test['review']\n",
      "\n",
      "clf_1.fit(X_train, y_train)\n",
      "result = clf_1.predict(X_test)"
     ],
     "language": "python",
     "metadata": {},
     "outputs": []
    },
    {
     "cell_type": "code",
     "collapsed": false,
     "input": [
      "output = pd.DataFrame(data={'id':df_test['id'], 'sentiment':result} )\n",
      "output.to_csv('../submissions/1_random_forest_tfidf_1.csv', index=False, quoting=3)"
     ],
     "language": "python",
     "metadata": {},
     "outputs": [],
     "prompt_number": 30
    },
    {
     "cell_type": "markdown",
     "metadata": {},
     "source": [
      "<br>\n",
      "<br>"
     ]
    },
    {
     "cell_type": "heading",
     "level": 1,
     "metadata": {},
     "source": [
      "Hyperparameter Tuning"
     ]
    },
    {
     "cell_type": "markdown",
     "metadata": {},
     "source": [
      "- [[back to top](#Sections)]"
     ]
    },
    {
     "cell_type": "code",
     "collapsed": false,
     "input": [
      "vect = TfidfVectorizer(binary=False,\n",
      "                       stop_words=stop_words,\n",
      "                       ngram_range=(1,1),\n",
      "                       preprocessor=lambda text: re.sub('[^a-zA-Z]', ' ', text.lower()),\n",
      "                       max_features=5000,\n",
      "                       tokenizer=lambda text: [porter.stem(word) for word in text.split()])"
     ],
     "language": "python",
     "metadata": {},
     "outputs": [],
     "prompt_number": 31
    },
    {
     "cell_type": "markdown",
     "metadata": {},
     "source": [
      "<br>\n",
      "<br>"
     ]
    },
    {
     "cell_type": "heading",
     "level": 3,
     "metadata": {},
     "source": [
      "Effect of the number of estimators"
     ]
    },
    {
     "cell_type": "markdown",
     "metadata": {},
     "source": [
      "- [[back to top](#Sections)]"
     ]
    },
    {
     "cell_type": "code",
     "collapsed": false,
     "input": [
      "pipe_1 = Pipeline([\n",
      "                ('vect',   vect),\n",
      "                ('dense', DenseTransformer()),\n",
      "                ('clf', RandomForestClassifier(n_estimators=50))])\n",
      "\n",
      "pipe_2 = Pipeline([\n",
      "                ('vect',   vect),\n",
      "                ('dense', DenseTransformer()),\n",
      "                ('clf', RandomForestClassifier(n_estimators=200))])\n",
      "\n",
      "pipe_3 = Pipeline([\n",
      "                ('vect',   vect),\n",
      "                ('dense', DenseTransformer()),\n",
      "                ('clf', RandomForestClassifier(n_estimators=400))])\n",
      "\n",
      "for i,clf in enumerate([pipe_1, pipe_2, pipe_3]):\n",
      "    scores = cross_validation.cross_val_score(estimator=clf, X=X_train, y=y_train, scoring='roc_auc', cv=5)\n",
      "    print('clf %s, %s: %0.2f (+/- %0.2f)' % (i+1, labels[i], scores.mean()*100, scores.std()*100))\n"
     ],
     "language": "python",
     "metadata": {},
     "outputs": []
    },
    {
     "cell_type": "markdown",
     "metadata": {},
     "source": [
      "<br>\n",
      "<br>"
     ]
    },
    {
     "cell_type": "heading",
     "level": 3,
     "metadata": {},
     "source": [
      "GridSearch"
     ]
    },
    {
     "cell_type": "markdown",
     "metadata": {},
     "source": [
      "- [[back to top](#Sections)]"
     ]
    },
    {
     "cell_type": "code",
     "collapsed": false,
     "input": [
      "X_train_feat = vect.fit_transform(X_train, y_train)\n",
      "X_train_feat = X_train_feat.toarray()"
     ],
     "language": "python",
     "metadata": {},
     "outputs": [],
     "prompt_number": 35
    },
    {
     "cell_type": "code",
     "collapsed": false,
     "input": [
      "from sklearn.grid_search import GridSearchCV\n",
      "from sklearn.metrics import classification_report\n",
      "\n",
      "\n",
      "clf_2 = RandomForestClassifier(n_estimators=50)\n",
      "\n",
      "\n",
      "tuned_parameters = [\n",
      "  {'criterion': ['gini', 'entropy'], \n",
      "   'max_features': ['auto', 'log2', 'sqrt'],\n",
      "   'min_samples_split':[2,3], \n",
      "   'min_samples_leaf':[1,2]},\n",
      " ]\n",
      "\n",
      "\n",
      "grid_search_1 = GridSearchCV(clf_2, \n",
      "                           tuned_parameters, \n",
      "                           n_jobs=2, \n",
      "                           scoring='roc_auc',\n",
      "                           cv=5\n",
      "                )\n",
      "\n",
      "grid_search_1.fit(X_train_feat, X_train_feat)\n",
      "\n",
      "print(\"Best parameters set found on development set:\")\n",
      "print()\n",
      "print(grid_search_1.best_estimator_)\n",
      "print()\n",
      "print(\"Grid scores on development set:\")\n",
      "print()\n",
      "for params, mean_score, scores in grid_search_1.grid_scores_:\n",
      "    print(\"%0.3f (+/-%0.03f) for %r\"\n",
      "            % (mean_score, scores.std() / 2, params))\n",
      "\n"
     ],
     "language": "python",
     "metadata": {},
     "outputs": []
    },
    {
     "cell_type": "markdown",
     "metadata": {},
     "source": [
      "<br>\n",
      "<br>"
     ]
    }
   ],
   "metadata": {}
  }
 ]
}